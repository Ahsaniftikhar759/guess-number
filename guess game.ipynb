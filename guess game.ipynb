{
 "cells": [
  {
   "cell_type": "code",
   "execution_count": 4,
   "metadata": {},
   "outputs": [
    {
     "name": "stdout",
     "output_type": "stream",
     "text": [
      "enter number from 0 to 10022\n",
      "too low\n",
      "try again33\n",
      "too low\n",
      "try again44\n",
      "too low\n",
      "try again55\n",
      "too low\n",
      "try again66\n",
      "too high\n",
      "try again60\n",
      "too high\n",
      "try again56\n",
      "too low\n",
      "try again57\n",
      "too low\n",
      "try again58\n",
      "you win and guess number is :9\n"
     ]
    }
   ],
   "source": [
    "import random\n",
    "winning_number=random.randint(0,100)\n",
    "guess=1\n",
    "number=int(input(\"enter number from 0 to 100\"))\n",
    "game_over=False\n",
    "while not game_over:\n",
    "    if number==winning_number:\n",
    "        print(f\"you win and guess number is :{guess}\")\n",
    "        game_over=True\n",
    "    else:\n",
    "        if number>winning_number:\n",
    "            print(\"too high\")\n",
    "        else:\n",
    "               print(\"too low\")\n",
    "        guess+=1\n",
    "        number=int(input(\"try again\"))\n",
    "        "
   ]
  },
  {
   "cell_type": "code",
   "execution_count": null,
   "metadata": {},
   "outputs": [],
   "source": []
  },
  {
   "cell_type": "code",
   "execution_count": null,
   "metadata": {},
   "outputs": [],
   "source": []
  }
 ],
 "metadata": {
  "kernelspec": {
   "display_name": "Python 3",
   "language": "python",
   "name": "python3"
  },
  "language_info": {
   "codemirror_mode": {
    "name": "ipython",
    "version": 3
   },
   "file_extension": ".py",
   "mimetype": "text/x-python",
   "name": "python",
   "nbconvert_exporter": "python",
   "pygments_lexer": "ipython3",
   "version": "3.7.3"
  }
 },
 "nbformat": 4,
 "nbformat_minor": 2
}
